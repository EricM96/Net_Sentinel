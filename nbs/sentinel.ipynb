#%%
%reload_ext autoreload
%autoreload 2
%matplotlib inline

#%%
import torch.cuda

#%%
current_device = torch.cuda.current_device()
torch.cuda.get_device_name(current_device)
torch.cuda.get_device_properties(current_device)

#%%
from fastai.vision import *
from fastai.metrics import error_rate 
from pathlib import Path 

#%%
img_path = Path.cwd() / 'heat_maps' / 'heat_maps'

#%%
data = ImageDataBunch.from_folder(img_path, valid_pct = .5, classes=['ddos_tcp', 'clean_tcp'], bs=1)
#%%
data.show_batch()

#%%

#%%
