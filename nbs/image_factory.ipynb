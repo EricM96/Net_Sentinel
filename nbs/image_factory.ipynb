{
 "nbformat": 4,
 "nbformat_minor": 2,
 "metadata": {
  "language_info": {
   "name": "python",
   "codemirror_mode": {
    "name": "ipython",
    "version": 3
   }
  },
  "orig_nbformat": 2,
  "file_extension": ".py",
  "mimetype": "text/x-python",
  "name": "python",
  "npconvert_exporter": "python",
  "pygments_lexer": "ipython3",
  "version": 3
 },
 "cells": [
  {
   "cell_type": "code",
   "execution_count": 1,
   "metadata": {},
   "outputs": [],
   "source": [
    "from pathlib import Path\n",
    "\n",
    "import matplotlib.pyplot as plt\n",
    "import numpy as np\n",
    "import pandas as pd\n",
    "import seaborn as sns"
   ]
  },
  {
   "cell_type": "code",
   "execution_count": 2,
   "metadata": {},
   "outputs": [],
   "source": [
    "class Image_Factory(object):\n",
    "    '''\n",
    "    The Image_Factory takes a Composite_Frame object and a directory to save images\n",
    "    in and populates the directory with heat map images derived from network resolutions\n",
    "    in the Composite_Frame\n",
    "    '''\n",
    "    def __init__(self, csv_path: Path, img_path: Path):\n",
    "        '''\n",
    "        Instance Variables:\n",
    "            @self.img_path -> path object to write heat maps too\n",
    "            @self.label -> label to use in naming images\n",
    "            @self.img_limit -> how many images to create \n",
    "        '''\n",
    "        self.img_path = img_path\n",
    "        self.label = str(img_path).split('/')[-1]\n",
    "        self.img_count = 0\n",
    "\n",
    "        self._create_heatmaps(csv_path)\n",
    "\n",
    "    def _create_heatmaps(self, csv_path: Path):\n",
    "        _, ax = plt.subplots(1, 1, figsize=(1, 1), dpi=23)\n",
    "\n",
    "        for file in csv_path.iterdir():\n",
    "            frame = pd.read_csv(file, usecols=['saddr', 'stime', 'ltime', 'tbytes'],\n",
    "\n",
    "                                dtype={'saddr': str, \n",
    "                                        'stime': np.float, \n",
    "                                        'ltime': np.float,\n",
    "                                        'tbytes': np.int\n",
    "                                        }\n",
    "                                )\n",
    "            frame = frame.filter(['saddr', 'tbytes']).groupby('saddr').sum().reset_index()\n",
    "\n",
    "            frame = pd.pivot_table(frame, values='tbytes', index='saddr', columns=None)\n",
    "\n",
    "            _ = sns.heatmap(frame, xticklabels=False, yticklabels=False, cbar=False)\n",
    "\n",
    "            ax.set_ylabel('')\n",
    "            ax.set_xlabel('')\n",
    "\n",
    "            img_name = self.label + str(self.img_count)\n",
    "            plt.savefig(self.img_path / img_name)\n",
    "\n",
    "            self.img_count += 1\n"
   ]
  },
  {
   "cell_type": "code",
   "execution_count": null,
   "metadata": {},
   "outputs": [],
   "source": []
  }
 ]
}