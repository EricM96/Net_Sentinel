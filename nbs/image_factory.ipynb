#%%
'''
Author: Eric McCullough
File: image_factory
Trello: Goal 2 
'''
#%%
import matplotlib.pyplot as plt
import seaborn as sns
import sys
from pathlib import Path

sys.path.append('../components')
from components.composite_frame import Composite_Frame

#%%
class Image_Factory(object):
    '''
    The Image_Factory takes a Composite_Frame object and a directory to save images
    in and populates the directory with heat map images derived from network resolutions
    in the Composite_Frame
    '''
    def __init__(self, composite_frame: Composite_Frame, img_path: Path, img_limit: int=-1):
        '''
        Instance Variables:
            @self.img_path -> path object to write heat maps too
            @self.label -> label to use in naming images
            @self.img_limit -> how many images to create 
        '''
        self.img_path = img_path
        self.label = str(img_path).split('/')[-1]

        if img_limit < 0:
            self.img_limit = len(composite_frame.items)
        else:
            self.img_limit = img_limit

        self._create_heatmaps(composite_frame)

    def _create_heatmaps(self, composite_frame: Composite_Frame):
        _, ax = plt.subplots(1, 1, figsize=(1, 1), dpi=23)
        img_id = 0

        for frame in composite_frame.items:
            # Extract necessary information and eliminate duplicate ip addresses
            frame = frame.filter(['saddr', 'TnBPSrcIP']).groupby('saddr').sum().reset_index()

            frame = pd.pivot_table(frame, values='TnBPSrcIP', index='saddr', columns=None)

            _ = sns.heatmap(frame, xticklabels=False, yticklabels=False, cbar=False)

            ax.set_ylabel('')
            ax.set_xlabel('')

            img_name = self.label + str(img_id)
            plt.savefig(self.img_path / img_name)

            img_id += 1

            if img_id > self.img_limit:
                break


#%%
# Here be tests
import pandas as pd
import numpy as np

csv_path = Path.cwd() / 'All features'
li = []
for file in csv_path.iterdir():
    flow_df = pd.read_csv(file, usecols=['pkSeqID', 'stime', 'proto', 'saddr',
                                         'sport', 'daddr', 'dport', 'attack',
                                         'category', 'subcategory', 'TnBPSrcIP',
                                         'ltime'],

                          dtype={'pkSeqID': np.int, 'stime': np.float, 'proto': str,
                                 'saddr': str, 'sport': str, 'daddr': str, 'dport': str,
                                 'attack': bool, 'category': str, 'subcategory': str,
                                 'TnBPSrcIP': np.int64, 'ltime': np.float}
                          )

    li.append(flow_df)

df = pd.concat(li, axis=0, ignore_index=True)

#%%
clean_traffic = df[df.attack == False]
clean_traffic = clean_traffic[clean_traffic.proto == 'tcp']

clean_composite = Composite_Frame(clean_traffic, 60)

#%%
composite_len = 0
for frame in clean_composite.items:
    composite_len += frame.shape[0]
composite_len

#%%
print(len(clean_composite.items))
print(clean_composite.max_frames)
#%%
img_path = Path.cwd() / 'heat_maps' / 'clean_tcp'
img_path.mkdir(exist_ok=True)

#%%
img_factory = Image_Factory(clean_composite, img_path)

#%%
dirty_traffic = df[df.attack == True]
dirty_traffic = dirty_traffic[dirty_traffic.category == 'DDoS']
dirty_traffic = dirty_traffic[dirty_traffic.subcategory == 'TCP']

#%%
# Reduce number dimmensions of data frame
dirty_traffic = dirty_traffic.filter(['stime', 'ltime', 'TnBPSrcIP'])

# Split dataframe in half
dirty_traffic = dirty_traffic[0:dirty_traffic.shape[0]//2]

#%%
dirty_composite = Composite_Frame(dirty_traffic, 60, 150)

#%%
len(dirty_composite.items)

#%%
img_path = Path.cwd() / 'heat_maps' / 'ddos_tcp'
img_path.mkdir(exist_ok=True)
img_factory = Image_Factory(dirty_composite, img_path, 150)

#%%
