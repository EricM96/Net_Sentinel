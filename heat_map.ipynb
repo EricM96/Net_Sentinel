# To add a new cell, type '#%%'
# To add a new markdown cell, type '#%% [markdown]'
#%%
from pathlib import Path
from typing import List

import matplotlib.pyplot as plt
import pandas as pd
import seaborn as sns

#%%
csv_path = Path.cwd() / 'All features'

#%%
li = []
for file in csv_path.iterdir():
    flow_df = pd.read_csv(file,
                usecols=['pkSeqID', 'stime', 'proto', 'saddr', 'sport',
                'daddr', 'dport', 'attack', 'category','subcategory',
                'TnBPSrcIP', 'ltime'])
    li.append(flow_df)

df = pd.concat(li, axis=0, ignore_index=True)

#%%
clean_traffic = df[df.attack == 0]
clean_traffic = clean_traffic[clean_traffic.proto == 'tcp']

dirty_traffic = df[df.attack == 1]
dirty_traffic = dirty_traffic[dirty_traffic.category == 'DDoS']
dirty_traffic = dirty_traffic[dirty_traffic.subcategory == 'TCP']

#%%
counter = 0
for index, row in clean_traffic.iterrows():
    time_span = row.ltime - row.stime
    if time_span > 60:
        counter += 1
print(f'Number of flows exceeding time span in clean traffic: {counter}')
counter = 0
for index, row in dirty_traffic.iterrows():
    time_span = row.ltime - row.stime
    if time_span > 60:
        counter += 1
print(f'Number of flows exceeding time span in dirty traffic: {counter}')



#%%
print('Clean traffic len: {}'.format(clean_traffic.shape[0]))
print('Dirty traffic len: {}'.format(dirty_traffic.shape[0]))

#%%
def split_frames(traffic: pd.DataFrame) -> List[pd.DataFrame]:
    # Sort traffic by starting time
    traffic = traffic.sort_values(by=['stime']).reset_index()
    traffic_len = traffic.shape[0]
    progress = 0.

    # Initialize loop variables 
    time_frames = []                # list to hold subframes 
    current_frame = pd.DataFrame()
    time_range = 60
    min_stime = traffic.iloc[0].stime
    max_ltime = min_stime + time_range
    for index, row in traffic.iterrows():
        percent_done = (index+1) / traffic_len 
        current_stime, current_ltime = row.stime, row.ltime

        # Case 1: The flow falls within our current frame
        if current_stime >= min_stime and current_ltime <= max_ltime:
            current_frame.append(row) 
        # Case 2: The flow exceeds our range of a minute 
        elif (row.ltime - row.stime) > time_range:
            continue
            # print('Encountered error. Flow time duration is: {}'.format(row.ltime - row.stime))
        # Case 3: We have exhausted our current time frame and it's time to start a new one
        else:
            time_frames.append(current_frame)
            current_frame = pd.DataFrame()
            min_stime = traffic.iloc[index].stime
            max_ltime = min_stime + time_range 

        if percent_done - progress >= 0.05:
            progress = percent_done
            print('Progress: {}%'.format(percent_done * 100))
    
    return time_frames

#%%
%%time
clean_traffic = split_frames(clean_traffic)
dirty_traffic = split_frames(dirty_traffic)

#%%
clean_traffic = clean_traffic.filter(['saddr', 'TnBPSrcIP']).groupby('saddr').sum().reset_index()
dirty_traffic = dirty_traffic.filter(['saddr', 'TnBPSrcIP']).groupby('saddr').sum().reset_index()

#%%
valid = ['6', '5', '3', '7', '150', '149', '148', '147']
included = {s.saddr.split('.')[-1] for r, s in dirty_traffic.iterrows()}
for index, row in clean_traffic.iterrows():
    ip = row.saddr.split('.')
    if ip[-1] in valid and ip[-1] not in included:
        dirty_traffic = dirty_traffic.append({'saddr' : row.saddr, 'TnBPSrcIP' : 0}, ignore_index=True)

#%%
mean_packets_clean = clean_traffic['TnBPSrcIP'].mean()
std_packets_clean = clean_traffic['TnBPSrcIP'].std()
print(f'Clean traffic mean: {mean_packets_clean}\n\
Clean traffic standard deviation: {std_packets_clean}')

print()

mean_packets_dirty = dirty_traffic['TnBPSrcIP'].mean()
std_packets_dirty = dirty_traffic['TnBPSrcIP'].std()
print(f'Dirty traffic mean: {mean_packets_dirty}\n\
Dirty traffic standard deviation: {std_packets_dirty}')

#%%
fig, ax = plt.subplots(1, 1, figsize=(1, 1), dpi=23)
dirty_traffic = pd.pivot_table(dirty_traffic, values='TnBPSrcIP', index='saddr',
                                columns=None)

dirty_map = sns.heatmap(dirty_traffic, xticklabels=False, yticklabels=False, cbar=False)
ax.set_ylabel('')    
ax.set_xlabel('')
plt.savefig('dirty_map.png')

#%%
fig, ax = plt.subplots(1, 1, figsize=(1, 1), dpi=23)
clean_traffic = pd.pivot_table(clean_traffic, values='TnBPSrcIP', index='saddr',
                                columns=None)

clean_map = sns.heatmap(clean_traffic, xticklabels=False, yticklabels=False, cbar=False)
ax.set_ylabel('')    
ax.set_xlabel('')
plt.savefig('clean_map.png')


#%%
